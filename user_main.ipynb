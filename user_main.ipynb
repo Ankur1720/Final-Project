{
 "cells": [
  {
   "cell_type": "code",
   "execution_count": null,
   "id": "53f08fa0",
   "metadata": {},
   "outputs": [],
   "source": [
    "#  User can run this to get all the stuff !!!\n",
    "\n",
    "#  Start with registration\n",
    "\n",
    "from user_registration import registration\n",
    "\n",
    "#  please refer to user registration for login username and password else do registration !!!!\n",
    "registration()\n",
    "\n",
    "# Giving option to place order,view order history,update profile\n",
    "def choise():\n",
    "    option = int(input(\"\\n1-Place New Order \\n2-Order History \\n3-Update Profile\\n\"))\n",
    "    \n",
    "    # For Placing New Order\n",
    "    if option == 1:\n",
    "        from _new_order import new_order\n",
    "        obj = new_order()\n",
    "        obj.new_order()\n",
    "\n",
    "    # For Order History\n",
    "    elif option == 2:\n",
    "        try:\n",
    "            file = open(\"Order.txt\",'r+')\n",
    "            print(file.read())\n",
    "            file.close()        \n",
    "            choise()\n",
    "        except:\n",
    "            print(\"Please order first if you are using the app for the first time\")\n",
    "            choise()\n",
    "\n",
    "    # For Updating The Profile\n",
    "    elif option == 3:\n",
    "        from _Update_Profile import update_profile\n",
    "        update_profile()\n",
    "    \n",
    "    # If Someone Choose Other option Rather Than 1,2,3  \n",
    "    else:\n",
    "        print(\"Seclect Valid information\")\n",
    "        choise()\n",
    "\n",
    "choise()"
   ]
  }
 ],
 "metadata": {
  "kernelspec": {
   "display_name": "Python 3 (ipykernel)",
   "language": "python",
   "name": "python3"
  },
  "language_info": {
   "codemirror_mode": {
    "name": "ipython",
    "version": 3
   },
   "file_extension": ".py",
   "mimetype": "text/x-python",
   "name": "python",
   "nbconvert_exporter": "python",
   "pygments_lexer": "ipython3",
   "version": "3.11.0"
  }
 },
 "nbformat": 4,
 "nbformat_minor": 5
}
