{
 "cells": [
  {
   "cell_type": "code",
   "execution_count": 3,
   "id": "c7a1fb75",
   "metadata": {},
   "outputs": [],
   "source": [
    "# for Registration   \n",
    "#  Go to user main and then run\n",
    "\n",
    "import re\n",
    "\n",
    "def registration():\n",
    "        user = \"Ankur\"\n",
    "        password2 = 1234\n",
    "        option = int(input(\"\\n1- Login \\n2- Registration \\n\"))\n",
    "        if option == 1:\n",
    "            username = (input(\"Username : \"))\n",
    "            password1 = int(input(\"Password : \"))\n",
    "            if username == user and password1 ==  password2:\n",
    "                print(\"Welcome\")\n",
    "            else:\n",
    "                print(\"Invalid Username and Password\")\n",
    "                registration()\n",
    "        elif option == 2:\n",
    "            start = input(\"Press Enter to register\")\n",
    "            name = input(\"\\nPlease Enter Your Name : \")\n",
    "            phone = input(f\"{name} Enter your 10 digit phone number = \")\n",
    "            data = re.findall(r\"^[1-9]{1}[0-9]{9}$\", phone)\n",
    "            if data:\n",
    "                data = input(f\"{name} Enter your email id = \")\n",
    "                result = re.findall(r\"^[A-Za-z_+-.0-9]+@[A-Za-z]+\\.[a-z]{1,3}$\", data)    \n",
    "                if result:\n",
    "                    address = input(f\"{name} Enter your address : \")\n",
    "                    print(\"Password must consist of 1 capital leter,1 small letter,0-9 digit altist 1 ,1 special character, minimum 6 digit maximum 16 digit\")\n",
    "                    password = input(f\"{name} Enter your password = \")\n",
    "                    result1 = re.findall(\"^(?=.*[A-Z])(?=.*[a-z])(?=.*\\d)(?=.*[!@#$%^&*()])[A-Za-z\\dd!@#$%^&*()]{6,16}\",password)\n",
    "                    if result1:\n",
    "                        print(f\"\\n {name} Welcome to the application!!!!\")\n",
    "                    else:\n",
    "                        print(\"Try again and Enter a valid password\")\n",
    "                        registration()                        \n",
    "                else:\n",
    "                    print(\"Try again and Enter valid email id \")\n",
    "                    registration()\n",
    "            else:\n",
    "                print(\"Try again and Enter valid phone number\")\n",
    "                registration()\n",
    "        else:\n",
    "            print(\"Try again and Enter valid option\")\n",
    "            registration()"
   ]
  },
  {
   "cell_type": "code",
   "execution_count": null,
   "id": "9a5e5e20",
   "metadata": {},
   "outputs": [],
   "source": []
  }
 ],
 "metadata": {
  "kernelspec": {
   "display_name": "Python 3 (ipykernel)",
   "language": "python",
   "name": "python3"
  },
  "language_info": {
   "codemirror_mode": {
    "name": "ipython",
    "version": 3
   },
   "file_extension": ".py",
   "mimetype": "text/x-python",
   "name": "python",
   "nbconvert_exporter": "python",
   "pygments_lexer": "ipython3",
   "version": "3.11.0"
  }
 },
 "nbformat": 4,
 "nbformat_minor": 5
}
