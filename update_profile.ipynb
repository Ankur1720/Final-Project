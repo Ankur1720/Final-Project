{
 "cells": [
  {
   "cell_type": "code",
   "execution_count": null,
   "id": "76f241a3",
   "metadata": {},
   "outputs": [],
   "source": [
    "#  For Updating the profile\n",
    "#  Go to user main and then run\n",
    "\n",
    "import re\n",
    "\n",
    "def update_profile():\n",
    "    option = int(input(\"\\n1-To Update Name \\n2-To Update Phone Number \\n3-To Update Email ID \\n4-To Update Address \\n5-To Update Password \\n6- Main Option\"))\n",
    "\n",
    "    if option == 1:\n",
    "        name = input(\"\\nEnter the name : \")\n",
    "        print(\"\\nUpdated Name : \",name)\n",
    "    elif option == 2:\n",
    "        phone = input(\"\\nEnter your 10 digit phone number = \")\n",
    "        data = re.findall(r\"^[1-9]{1}[0-9]{9}$\", phone)\n",
    "        if data:\n",
    "            print(\"\\nUpdated Phone Number : \",phone)\n",
    "        else:\n",
    "            print(\"\\nEnter Valid Phone Number\")\n",
    "            update_profile()\n",
    "    elif option == 3:\n",
    "         data = input(\"\\nEnter your email id = \")\n",
    "         result = re.findall(r\"^[A-Za-z_+-.0-9]+@[A-Za-z]+\\.[a-z]{1,3}$\", data)    \n",
    "         if result :\n",
    "            print(\"\\nUpdated Email ID : \",data)\n",
    "         else:\n",
    "            print(\"\\nEnter valid Email ID\")\n",
    "            update_profile()\n",
    "    elif option == 4:\n",
    "        address = input(\"\\nEnter your City\")\n",
    "        print(\"\\nUpdated City : \",address)\n",
    "    elif option == 5:\n",
    "        print(\"\\nPassword must consist of 1 capital leter,1 small letter,0-9 digit altist 1 , minimum 6 digit maximum 16 digit\")\n",
    "        password = input(\"Enter your password = \")\n",
    "        result1 = re.findall(\"^(?=.*[A-Z])(?=.*[a-z])(?=.*\\d)(?=.*[!@#$%^&*()])[A-Za-z\\dd!@#$%^&*()]{6,16}\",password)\n",
    "        if result1:\n",
    "            print(\"!! Password Is Updated !!\")\n",
    "        else:\n",
    "            print(\"Enter a valid password\")\n",
    "            update_profile()\n",
    "    elif option ==6 :\n",
    "        from _user_main import choise \n",
    "        choise()\n",
    "    else:\n",
    "        print(\"!! Enter valid option and try again !!\")\n",
    "        update_profile()"
   ]
  }
 ],
 "metadata": {
  "kernelspec": {
   "display_name": "Python 3 (ipykernel)",
   "language": "python",
   "name": "python3"
  },
  "language_info": {
   "codemirror_mode": {
    "name": "ipython",
    "version": 3
   },
   "file_extension": ".py",
   "mimetype": "text/x-python",
   "name": "python",
   "nbconvert_exporter": "python",
   "pygments_lexer": "ipython3",
   "version": "3.11.0"
  }
 },
 "nbformat": 4,
 "nbformat_minor": 5
}
